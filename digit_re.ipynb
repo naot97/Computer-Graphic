{
  "nbformat": 4,
  "nbformat_minor": 0,
  "metadata": {
    "colab": {
      "name": "digit re.ipynb",
      "provenance": [],
      "toc_visible": true,
      "authorship_tag": "ABX9TyMXW/4O0c9gPlv7yp17FtD3",
      "include_colab_link": true
    },
    "kernelspec": {
      "name": "python3",
      "display_name": "Python 3"
    },
    "accelerator": "GPU"
  },
  "cells": [
    {
      "cell_type": "markdown",
      "metadata": {
        "id": "view-in-github",
        "colab_type": "text"
      },
      "source": [
        "<a href=\"https://colab.research.google.com/github/naot97/Computer-Graphic/blob/master/digit_re.ipynb\" target=\"_parent\"><img src=\"https://colab.research.google.com/assets/colab-badge.svg\" alt=\"Open In Colab\"/></a>"
      ]
    },
    {
      "cell_type": "code",
      "metadata": {
        "id": "ph2MoCkIEOID",
        "colab_type": "code",
        "colab": {}
      },
      "source": [
        "import pandas as pd\n",
        "import numpy as np\n",
        "import matplotlib.pyplot as plt\n",
        "import matplotlib.image as mpimg\n",
        "import seaborn as sns\n",
        "\n",
        "\n",
        "np.random.seed(2)\n",
        "\n",
        "from sklearn.model_selection import train_test_split\n",
        "from sklearn.metrics import confusion_matrix\n",
        "import itertools\n",
        "\n",
        "from keras.utils.np_utils import to_categorical # convert to one-hot-encoding\n",
        "from keras.models import Sequential\n",
        "from keras.layers import Dense, Dropout, Flatten, Conv2D, MaxPool2D\n",
        "from keras.optimizers import RMSprop\n",
        "from keras.preprocessing.image import ImageDataGenerator\n",
        "from keras.callbacks import ReduceLROnPlateau\n",
        "\n",
        "\n",
        "sns.set(style='white', context='notebook', palette='deep')\n"
      ],
      "execution_count": 0,
      "outputs": []
    },
    {
      "cell_type": "code",
      "metadata": {
        "id": "jByLHeoEHzNO",
        "colab_type": "code",
        "outputId": "d2f13db4-3b15-48eb-deb8-afa723f6f0d3",
        "colab": {
          "base_uri": "https://localhost:8080/",
          "height": 34
        }
      },
      "source": [
        "from google.colab import drive\n",
        "drive.mount('/content/drive')"
      ],
      "execution_count": 0,
      "outputs": [
        {
          "output_type": "stream",
          "text": [
            "Drive already mounted at /content/drive; to attempt to forcibly remount, call drive.mount(\"/content/drive\", force_remount=True).\n"
          ],
          "name": "stdout"
        }
      ]
    },
    {
      "cell_type": "code",
      "metadata": {
        "id": "aj3IegoRE7j8",
        "colab_type": "code",
        "colab": {}
      },
      "source": [
        "# Load the data\n",
        "train = pd.read_csv(\"/content/drive/My Drive/digit-recognizer/train.csv\")\n",
        "test = pd.read_csv(\"/content/drive/My Drive/digit-recognizer/test.csv\")\n"
      ],
      "execution_count": 0,
      "outputs": []
    },
    {
      "cell_type": "code",
      "metadata": {
        "id": "RFI2GjWccpXd",
        "colab_type": "code",
        "outputId": "8a625dd6-e3c4-4198-9681-e8de1ea39c8a",
        "colab": {
          "base_uri": "https://localhost:8080/",
          "height": 255
        }
      },
      "source": [
        "print(train.shape)\n",
        "Labels = train[\"label\"]\n",
        "print(Labels)\n",
        "X_train = train.drop(labels = [\"label\"], axis = 1)\n",
        "print(X_train.shape)"
      ],
      "execution_count": 0,
      "outputs": [
        {
          "output_type": "stream",
          "text": [
            "(42000, 785)\n",
            "0        1\n",
            "1        0\n",
            "2        1\n",
            "3        4\n",
            "4        0\n",
            "        ..\n",
            "41995    0\n",
            "41996    1\n",
            "41997    7\n",
            "41998    6\n",
            "41999    9\n",
            "Name: label, Length: 42000, dtype: int64\n",
            "(42000, 784)\n"
          ],
          "name": "stdout"
        }
      ]
    },
    {
      "cell_type": "code",
      "metadata": {
        "id": "Ons4dCIydGns",
        "colab_type": "code",
        "outputId": "255c279a-c38d-4182-9dec-baf713d6e9e3",
        "colab": {
          "base_uri": "https://localhost:8080/",
          "height": 472
        }
      },
      "source": [
        "g = sns.countplot(Labels)\n",
        "Labels.value_counts()\n"
      ],
      "execution_count": 0,
      "outputs": [
        {
          "output_type": "execute_result",
          "data": {
            "text/plain": [
              "1    4684\n",
              "7    4401\n",
              "3    4351\n",
              "9    4188\n",
              "2    4177\n",
              "6    4137\n",
              "0    4132\n",
              "4    4072\n",
              "8    4063\n",
              "5    3795\n",
              "Name: label, dtype: int64"
            ]
          },
          "metadata": {
            "tags": []
          },
          "execution_count": 73
        },
        {
          "output_type": "display_data",
          "data": {
            "image/png": "[encoded data removed]",
            "text/plain": [
              "<Figure size 432x288 with 1 Axes>"
            ]
          },
          "metadata": {
            "tags": []
          }
        }
      ]
    },
    {
      "cell_type": "code",
      "metadata": {
        "id": "uGgTpAOxznkv",
        "colab_type": "code",
        "colab": {}
      },
      "source": [
        "# Normalize the data\n",
        "X_train = X_train / 255.0\n",
        "test = test / 255.0\n",
        "\n",
        "X_train = X_train.values.reshape((-1,28,28,1))\n",
        "test = test.values.reshape((-1,28,28,1))\n",
        "\n",
        "Y_train = to_categorical(Labels, num_classes = 10)\n",
        "\n"
      ],
      "execution_count": 0,
      "outputs": []
    },
    {
      "cell_type": "code",
      "metadata": {
        "id": "qqcR7FGE3LeF",
        "colab_type": "code",
        "outputId": "0b6ea064-81e3-4341-bd63-c81ac8310c1f",
        "colab": {
          "base_uri": "https://localhost:8080/",
          "height": 34
        }
      },
      "source": [
        "#X_train, X_val, Y_train, Y_val = train_test_split(X_train, Y_train, test_size = 0.1, random_state=2)\n",
        "#g = plt.imshow(X_train[0][:,:,0])\n",
        "def append_element(list, list2):\n",
        "  for element in list2:\n",
        "    list.append(element)\n",
        "\n",
        "  return list\n",
        "\n",
        "\n",
        "\n",
        "l = np.array(list(Labels))\n",
        "\n",
        "temp_x_val = []\n",
        "temp_y_val = []\n",
        "temp_x_train = []\n",
        "temp_y_train = []\n",
        "\n",
        "for i in range(10):\n",
        "  index = [j for j in range(len(l)) if l[j] == i ]\n",
        "  x_train_i = X_train[index]\n",
        "  y_train_i = Y_train[index]\n",
        "  x_train_i, x_val_i, y_train_i, y_val_i =  train_test_split(x_train_i, y_train_i, test_size = 0.1, random_state=2)\n",
        "  temp_x_val = append_element(temp_x_val,x_val_i)\n",
        "  temp_y_val = append_element(temp_y_val,y_val_i)\n",
        "  temp_x_train = append_element(temp_x_train,x_train_i)\n",
        "  temp_y_train = append_element(temp_y_train,y_train_i)\n",
        "  #temp_x_val = temp_x_val + [(x_val_i)]\n",
        "  #temp_y_val = temp_y_val +[(y_val_i)]\n",
        "  #temp_x_train = temp_x_train + [(x_train_i)]\n",
        "  #temp_y_train = temp_y_train + [(y_train_i)]\n",
        "\n",
        "\n",
        "X_train = np.array(temp_x_train)\n",
        "Y_train = np.array(temp_y_train)\n",
        "X_val   = np.array(temp_x_val)\n",
        "Y_val   = np.array(temp_y_val)\n",
        "\n",
        "#X_train = np.squeeze(X_train,axis=0)\n",
        "#Y_train = np.squeeze(Y_train,axis=0)\n",
        "#X_val = np.squeeze(X_val,axis=0)\n",
        "#Y_val = np.squeeze(Y_val,axis=0)\n",
        "\n",
        "print(X_train.shape)"
      ],
      "execution_count": 0,
      "outputs": [
        {
          "output_type": "stream",
          "text": [
            "(37794, 28, 28, 1)\n"
          ],
          "name": "stdout"
        }
      ]
    },
    {
      "cell_type": "code",
      "metadata": {
        "id": "BGFIzvt-4zV1",
        "colab_type": "code",
        "colab": {}
      },
      "source": [
        "model = Sequential()\n",
        "\n",
        "model.add(Conv2D(filters=32,kernel_size=(5,5),padding='Same',activation ='relu', input_shape = (28,28,1)))\n",
        "\n",
        "model.add(Conv2D(filters = 32, kernel_size = (5,5),padding = 'Same', \n",
        "                 activation ='relu'))\n",
        "\n",
        "model.add(MaxPool2D(pool_size=(2,2)))\n",
        "\n",
        "model.add(Dropout(rate=0.25))\n",
        "\n",
        "model.add(Conv2D(filters = 64, kernel_size = (3,3),padding = 'Same', \n",
        "                 activation ='relu'))\n",
        "\n",
        "model.add(Conv2D(filters = 64, kernel_size = (3,3),padding = 'Same', \n",
        "                 activation ='relu'))\n",
        "model.add(MaxPool2D(pool_size=(2,2), strides=(2,2)))\n",
        "model.add(Dropout(rate=0.25))\n",
        "\n",
        "\n",
        "model.add(Flatten())\n",
        "model.add(Dense(256, activation = \"relu\"))\n",
        "model.add(Dropout(0.5))\n",
        "model.add(Dense(10, activation = \"softmax\"))\n"
      ],
      "execution_count": 0,
      "outputs": []
    },
    {
      "cell_type": "code",
      "metadata": {
        "id": "Ff7l_iyutYuQ",
        "colab_type": "code",
        "colab": {}
      },
      "source": [
        "optimizer = RMSprop(lr=0.001, rho=0.9, epsilon=1e-08, decay=0.0)\n",
        "model.compile(optimizer = optimizer , loss = \"categorical_crossentropy\", metrics=[\"accuracy\"])\n"
      ],
      "execution_count": 0,
      "outputs": []
    },
    {
      "cell_type": "code",
      "metadata": {
        "id": "lEgPzYRLto_6",
        "colab_type": "code",
        "colab": {}
      },
      "source": [
        "learning_rate_reduction = ReduceLROnPlateau(monitor='val_acc', \n",
        "                                            patience=3, \n",
        "                                            verbose=1, \n",
        "                                            factor=0.5, \n",
        "                                            min_lr=0.00001)\n",
        "epochs = 40 # Turn epochs to 30 to get 0.9967 accuracy\n",
        "batch_size = 128\n"
      ],
      "execution_count": 0,
      "outputs": []
    },
    {
      "cell_type": "code",
      "metadata": {
        "id": "uutGSSJQ06If",
        "colab_type": "code",
        "outputId": "cd687659-f776-433e-b9f7-f1bae155acd5",
        "colab": {
          "base_uri": "https://localhost:8080/",
          "height": 51
        }
      },
      "source": [
        "# With data augmentation to prevent overfitting (accuracy 0.99286)\n",
        "print(X_val.shape)\n",
        "datagen = ImageDataGenerator(\n",
        "        featurewise_center=False,  # set input mean to 0 over the dataset\n",
        "        samplewise_center=False,  # set each sample mean to 0\n",
        "        featurewise_std_normalization=False,  # divide inputs by std of the dataset\n",
        "        samplewise_std_normalization=False,  # divide each input by its std\n",
        "        zca_whitening=False,  # apply ZCA whitening\n",
        "        rotation_range=10,  # randomly rotate images in the range (degrees, 0 to 180)\n",
        "        zoom_range = 0.1, # Randomly zoom image \n",
        "        width_shift_range=0.1,  # randomly shift images horizontally (fraction of total width)\n",
        "        height_shift_range=0.1,  # randomly shift images vertically (fraction of total height)\n",
        "        horizontal_flip=False,  # randomly flip images\n",
        "        vertical_flip=False)  # randomly flip images\n",
        "\n",
        "\n",
        "datagen.fit(X_train)\n",
        "\n",
        "print(X_train.shape)"
      ],
      "execution_count": 0,
      "outputs": [
        {
          "output_type": "stream",
          "text": [
            "(4206, 28, 28, 1)\n",
            "(37794, 28, 28, 1)\n"
          ],
          "name": "stdout"
        }
      ]
    },
    {
      "cell_type": "code",
      "metadata": {
        "id": "1WkKQUXJ1Imc",
        "colab_type": "code",
        "outputId": "e7a06215-b2e4-4d11-a81b-7b2e271a2e85",
        "colab": {
          "base_uri": "https://localhost:8080/",
          "height": 1000
        }
      },
      "source": [
        "history = model.fit_generator(datagen.flow(X_train,Y_train, batch_size=batch_size),\n",
        "                              epochs = epochs, validation_data = (X_val,Y_val),\n",
        "                              verbose = 2, steps_per_epoch=X_train.shape[0] // batch_size\n",
        "                              , callbacks=[learning_rate_reduction])\n"
      ],
      "execution_count": 0,
      "outputs": [
        {
          "output_type": "stream",
          "text": [
            "Epoch 1/40\n",
            " - 10s - loss: 0.4945 - acc: 0.8412 - val_loss: 0.0655 - val_acc: 0.9784\n",
            "Epoch 2/40\n",
            " - 9s - loss: 0.1452 - acc: 0.9562 - val_loss: 0.0347 - val_acc: 0.9879\n",
            "Epoch 3/40\n",
            " - 9s - loss: 0.0994 - acc: 0.9692 - val_loss: 0.0390 - val_acc: 0.9883\n",
            "Epoch 4/40\n",
            " - 9s - loss: 0.0836 - acc: 0.9751 - val_loss: 0.0349 - val_acc: 0.9881\n",
            "Epoch 5/40\n",
            " - 9s - loss: 0.0750 - acc: 0.9779 - val_loss: 0.0283 - val_acc: 0.9914\n",
            "Epoch 6/40\n",
            " - 9s - loss: 0.0675 - acc: 0.9800 - val_loss: 0.0275 - val_acc: 0.9933\n",
            "Epoch 7/40\n",
            " - 10s - loss: 0.0629 - acc: 0.9813 - val_loss: 0.0221 - val_acc: 0.9929\n",
            "Epoch 8/40\n",
            " - 9s - loss: 0.0566 - acc: 0.9831 - val_loss: 0.0233 - val_acc: 0.9936\n",
            "Epoch 9/40\n",
            " - 9s - loss: 0.0568 - acc: 0.9832 - val_loss: 0.0200 - val_acc: 0.9945\n",
            "Epoch 10/40\n",
            " - 9s - loss: 0.0536 - acc: 0.9843 - val_loss: 0.0244 - val_acc: 0.9938\n",
            "Epoch 11/40\n",
            " - 9s - loss: 0.0512 - acc: 0.9850 - val_loss: 0.0218 - val_acc: 0.9943\n",
            "Epoch 12/40\n",
            " - 9s - loss: 0.0525 - acc: 0.9846 - val_loss: 0.0206 - val_acc: 0.9943\n",
            "\n",
            "Epoch 00012: ReduceLROnPlateau reducing learning rate to 0.0005000000237487257.\n",
            "Epoch 13/40\n",
            " - 9s - loss: 0.0380 - acc: 0.9888 - val_loss: 0.0171 - val_acc: 0.9955\n",
            "Epoch 14/40\n",
            " - 9s - loss: 0.0372 - acc: 0.9890 - val_loss: 0.0188 - val_acc: 0.9948\n",
            "Epoch 15/40\n",
            " - 9s - loss: 0.0394 - acc: 0.9891 - val_loss: 0.0189 - val_acc: 0.9952\n",
            "Epoch 16/40\n",
            " - 9s - loss: 0.0351 - acc: 0.9894 - val_loss: 0.0183 - val_acc: 0.9945\n",
            "\n",
            "Epoch 00016: ReduceLROnPlateau reducing learning rate to 0.0002500000118743628.\n",
            "Epoch 17/40\n",
            " - 9s - loss: 0.0314 - acc: 0.9911 - val_loss: 0.0210 - val_acc: 0.9955\n",
            "Epoch 18/40\n",
            " - 9s - loss: 0.0302 - acc: 0.9910 - val_loss: 0.0215 - val_acc: 0.9941\n",
            "Epoch 19/40\n",
            " - 9s - loss: 0.0290 - acc: 0.9913 - val_loss: 0.0163 - val_acc: 0.9960\n",
            "Epoch 20/40\n",
            " - 9s - loss: 0.0291 - acc: 0.9917 - val_loss: 0.0169 - val_acc: 0.9960\n",
            "Epoch 21/40\n",
            " - 9s - loss: 0.0318 - acc: 0.9908 - val_loss: 0.0162 - val_acc: 0.9957\n",
            "Epoch 22/40\n",
            " - 9s - loss: 0.0290 - acc: 0.9915 - val_loss: 0.0197 - val_acc: 0.9955\n",
            "\n",
            "Epoch 00022: ReduceLROnPlateau reducing learning rate to 0.0001250000059371814.\n",
            "Epoch 23/40\n",
            " - 9s - loss: 0.0277 - acc: 0.9916 - val_loss: 0.0144 - val_acc: 0.9960\n",
            "Epoch 24/40\n",
            " - 9s - loss: 0.0272 - acc: 0.9919 - val_loss: 0.0146 - val_acc: 0.9967\n",
            "Epoch 25/40\n",
            " - 9s - loss: 0.0257 - acc: 0.9924 - val_loss: 0.0175 - val_acc: 0.9957\n",
            "Epoch 26/40\n",
            " - 9s - loss: 0.0262 - acc: 0.9926 - val_loss: 0.0155 - val_acc: 0.9962\n",
            "Epoch 27/40\n",
            " - 9s - loss: 0.0258 - acc: 0.9922 - val_loss: 0.0178 - val_acc: 0.9952\n",
            "\n",
            "Epoch 00027: ReduceLROnPlateau reducing learning rate to 6.25000029685907e-05.\n",
            "Epoch 28/40\n",
            " - 9s - loss: 0.0233 - acc: 0.9930 - val_loss: 0.0157 - val_acc: 0.9957\n",
            "Epoch 29/40\n",
            " - 9s - loss: 0.0260 - acc: 0.9922 - val_loss: 0.0150 - val_acc: 0.9962\n",
            "Epoch 30/40\n",
            " - 9s - loss: 0.0254 - acc: 0.9925 - val_loss: 0.0156 - val_acc: 0.9960\n",
            "\n",
            "Epoch 00030: ReduceLROnPlateau reducing learning rate to 3.125000148429535e-05.\n",
            "Epoch 31/40\n",
            " - 9s - loss: 0.0220 - acc: 0.9930 - val_loss: 0.0160 - val_acc: 0.9960\n",
            "Epoch 32/40\n",
            " - 9s - loss: 0.0243 - acc: 0.9930 - val_loss: 0.0145 - val_acc: 0.9962\n",
            "Epoch 33/40\n",
            " - 9s - loss: 0.0246 - acc: 0.9934 - val_loss: 0.0164 - val_acc: 0.9962\n",
            "\n",
            "Epoch 00033: ReduceLROnPlateau reducing learning rate to 1.5625000742147677e-05.\n",
            "Epoch 34/40\n",
            " - 9s - loss: 0.0244 - acc: 0.9932 - val_loss: 0.0157 - val_acc: 0.9960\n",
            "Epoch 35/40\n",
            " - 9s - loss: 0.0222 - acc: 0.9932 - val_loss: 0.0161 - val_acc: 0.9962\n",
            "Epoch 36/40\n",
            " - 9s - loss: 0.0230 - acc: 0.9932 - val_loss: 0.0158 - val_acc: 0.9962\n",
            "\n",
            "Epoch 00036: ReduceLROnPlateau reducing learning rate to 1e-05.\n",
            "Epoch 37/40\n",
            " - 9s - loss: 0.0220 - acc: 0.9938 - val_loss: 0.0162 - val_acc: 0.9962\n",
            "Epoch 38/40\n",
            " - 9s - loss: 0.0230 - acc: 0.9930 - val_loss: 0.0162 - val_acc: 0.9962\n",
            "Epoch 39/40\n",
            " - 9s - loss: 0.0230 - acc: 0.9930 - val_loss: 0.0158 - val_acc: 0.9960\n",
            "Epoch 40/40\n",
            " - 9s - loss: 0.0252 - acc: 0.9930 - val_loss: 0.0154 - val_acc: 0.9962\n"
          ],
          "name": "stdout"
        }
      ]
    },
    {
      "cell_type": "code",
      "metadata": {
        "id": "tyGhjUed1mEL",
        "colab_type": "code",
        "outputId": "5825545e-3727-4940-e768-c1a224940ae9",
        "colab": {
          "base_uri": "https://localhost:8080/",
          "height": 268
        }
      },
      "source": [
        "# Plot the loss and accuracy curves for training and validation \n",
        "fig, ax = plt.subplots(2,1)\n",
        "ax[0].plot(history.history['loss'], color='b', label=\"Training loss\")\n",
        "ax[0].plot(history.history['val_loss'], color='r', label=\"validation loss\",axes =ax[0])\n",
        "legend = ax[0].legend(loc='best', shadow=True)\n",
        "\n",
        "ax[1].plot(history.history['acc'], color='b', label=\"Training accuracy\")\n",
        "ax[1].plot(history.history['val_acc'], color='r',label=\"Validation accuracy\")\n",
        "legend = ax[1].legend(loc='best', shadow=True)"
      ],
      "execution_count": 0,
      "outputs": [
        {
          "output_type": "display_data",
          "data": {
            "image/png": "[encoded data removed]",
            "text/plain": [
              "<Figure size 432x288 with 2 Axes>"
            ]
          },
          "metadata": {
            "tags": []
          }
        }
      ]
    },
    {
      "cell_type": "code",
      "metadata": {
        "id": "uLo27Li81s2K",
        "colab_type": "code",
        "outputId": "be7da84d-6ce3-4e22-ce26-85dff533d04c",
        "colab": {
          "base_uri": "https://localhost:8080/",
          "height": 310
        }
      },
      "source": [
        "def plot_confusion_matrix(cm, classes,\n",
        "                          normalize=False,\n",
        "                          title='Confusion matrix',\n",
        "                          cmap=plt.cm.Blues):\n",
        "    \"\"\"\n",
        "    This function prints and plots the confusion matrix.\n",
        "    Normalization can be applied by setting `normalize=True`.\n",
        "    \"\"\"\n",
        "    plt.imshow(cm, interpolation='nearest', cmap=cmap)\n",
        "    plt.title(title)\n",
        "    plt.colorbar()\n",
        "    tick_marks = np.arange(len(classes))\n",
        "    plt.xticks(tick_marks, classes, rotation=45)\n",
        "    plt.yticks(tick_marks, classes)\n",
        "\n",
        "    if normalize:\n",
        "        cm = cm.astype('float') / cm.sum(axis=1)[:, np.newaxis]\n",
        "\n",
        "    thresh = cm.max() / 2.\n",
        "    for i, j in itertools.product(range(cm.shape[0]), range(cm.shape[1])):\n",
        "        plt.text(j, i, cm[i, j],\n",
        "                 horizontalalignment=\"center\",\n",
        "                 color=\"white\" if cm[i, j] > thresh else \"black\")\n",
        "\n",
        "    plt.tight_layout()\n",
        "    plt.ylabel('True label')\n",
        "    plt.xlabel('Predicted label')\n",
        "\n",
        "# Predict the values from the validation dataset\n",
        "Y_pred = model.predict(X_val)\n",
        "# Convert predictions classes to one hot vectors \n",
        "Y_pred_classes = np.argmax(Y_pred,axis = 1) \n",
        "# Convert validation observations to one hot vectors\n",
        "Y_true = np.argmax(Y_val,axis = 1) \n",
        "# compute the confusion matrix\n",
        "confusion_mtx = confusion_matrix(Y_true, Y_pred_classes) \n",
        "# plot the confusion matrix\n",
        "plot_confusion_matrix(confusion_mtx, classes = range(10)) "
      ],
      "execution_count": 0,
      "outputs": [
        {
          "output_type": "display_data",
          "data": {
            "image/png": "[encoded data removed]",
            "text/plain": [
              "<Figure size 432x288 with 2 Axes>"
            ]
          },
          "metadata": {
            "tags": []
          }
        }
      ]
    },
    {
      "cell_type": "code",
      "metadata": {
        "id": "oRxheosi1ydS",
        "colab_type": "code",
        "outputId": "df8f3591-8721-427f-f651-2c5c214f2da7",
        "colab": {
          "base_uri": "https://localhost:8080/",
          "height": 298
        }
      },
      "source": [
        "\n",
        "# Errors are difference between predicted labels and true labels\n",
        "errors = (Y_pred_classes - Y_true != 0)\n",
        "\n",
        "Y_pred_classes_errors = Y_pred_classes[errors]\n",
        "Y_pred_errors = Y_pred[errors]\n",
        "Y_true_errors = Y_true[errors]\n",
        "X_val_errors = X_val[errors]\n",
        "\n",
        "def display_errors(errors_index,img_errors,pred_errors, obs_errors):\n",
        "    \"\"\" This function shows 6 images with their predicted and real labels\"\"\"\n",
        "    n = 0\n",
        "    nrows = 2\n",
        "    ncols = 3\n",
        "    fig, ax = plt.subplots(nrows,ncols,sharex=True,sharey=True)\n",
        "    for row in range(nrows):\n",
        "        for col in range(ncols):\n",
        "            error = errors_index[n]\n",
        "            ax[row,col].imshow((img_errors[error]).reshape((28,28)))\n",
        "            ax[row,col].set_title(\"Predicted label :{}\\nTrue label :{}\".format(pred_errors[error],obs_errors[error]))\n",
        "            n += 1\n",
        "\n",
        "# Probabilities of the wrong predicted numbers\n",
        "Y_pred_errors_prob = np.max(Y_pred_errors,axis = 1)\n",
        "\n",
        "# Predicted probabilities of the true values in the error set\n",
        "true_prob_errors = np.diagonal(np.take(Y_pred_errors, Y_true_errors, axis=1))\n",
        "\n",
        "# Difference between the probability of the predicted label and the true label\n",
        "delta_pred_true_errors = Y_pred_errors_prob - true_prob_errors\n",
        "\n",
        "# Sorted list of the delta prob errors\n",
        "sorted_dela_errors = np.argsort(delta_pred_true_errors)\n",
        "\n",
        "# Top 6 errors \n",
        "most_important_errors = sorted_dela_errors[-6:]\n",
        "\n",
        "# Show the top 6 errors\n",
        "display_errors(most_important_errors, X_val_errors, Y_pred_classes_errors, Y_true_errors)"
      ],
      "execution_count": 0,
      "outputs": [
        {
          "output_type": "display_data",
          "data": {
            "image/png": "[encoded data removed]",
            "text/plain": [
              "<Figure size 432x288 with 6 Axes>"
            ]
          },
          "metadata": {
            "tags": []
          }
        }
      ]
    },
    {
      "cell_type": "code",
      "metadata": {
        "id": "PHKRTt-K165o",
        "colab_type": "code",
        "colab": {}
      },
      "source": [
        "# predict results\n",
        "results = model.predict(test)\n",
        "\n",
        "# select the indix with the maximum probability\n",
        "results = np.argmax(results,axis = 1)\n",
        "\n",
        "results = pd.Series(results,name=\"Label\")"
      ],
      "execution_count": 0,
      "outputs": []
    },
    {
      "cell_type": "code",
      "metadata": {
        "id": "HPXHYT8F19iu",
        "colab_type": "code",
        "colab": {}
      },
      "source": [
        "submission = pd.concat([pd.Series(range(1,28001),name = \"ImageId\"),results],axis = 1)\n",
        "\n",
        "submission.to_csv(\"cnn_mnist_datagen.csv\",index=False)\n"
      ],
      "execution_count": 0,
      "outputs": []
    },
    {
      "cell_type": "code",
      "metadata": {
        "id": "pfAO5kxZLlOr",
        "colab_type": "code",
        "colab": {}
      },
      "source": [
        ""
      ],
      "execution_count": 0,
      "outputs": []
    }
  ]
}